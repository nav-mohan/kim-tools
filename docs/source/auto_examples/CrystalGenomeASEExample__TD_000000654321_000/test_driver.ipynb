{
  "cells": [
    {
      "cell_type": "markdown",
      "metadata": {},
      "source": [
        "\n# CrystalGenomeASEExample\n\nExample usage of the kim-test-utils package to make an ASE test\n"
      ]
    },
    {
      "cell_type": "code",
      "execution_count": null,
      "metadata": {
        "collapsed": false
      },
      "outputs": [],
      "source": [
        "from kim_test_utils.test_driver import CrystalGenomeTestDriver, query_crystal_genome_structures\nfrom ase.build import bulk\nfrom kim_python_utils.ase import get_isolated_energy_per_atom\nfrom crystal_genome_util.aflow_util import get_stoich_reduced_list_from_prototype\n\nclass TestDriver(CrystalGenomeTestDriver):\n    def _calculate(self, example_arg: str, **kwargs):\n        \"\"\"\n        Example calculate method. Just recalculates the binding-energy-crystal property.\n\n        You may add arbitrary arguments, which will be passed to this method when the test driver is invoked.\n\n        You must include **kwargs in the argument list, but you don't have to do anything with it\n\n        Args:\n            example_arg:\n                An example argument\n        \"\"\"\n\n        ####################################################\n        # ACTUAL CALCULATION BEGINS \n        ####################################################\n        # calculate potential energy and do the required stuff to figure out per-formula and per-atom, and subtract isolated energy\n        potential_energy = self.atoms.get_potential_energy()\n        potential_energy_per_atom = potential_energy/len(self.atoms)\n        reduced_stoichiometry = get_stoich_reduced_list_from_prototype(self.prototype_label) # i.e. \"AB3\\_....\" -> [1,3]        \n        binding_energy_per_formula = potential_energy_per_atom * sum(reduced_stoichiometry)\n        for num_in_formula,species in zip(reduced_stoichiometry,self.stoichiometric_species):\n            binding_energy_per_formula -= num_in_formula*get_isolated_energy_per_atom(self.kim_model_name,species)\n        binding_energy_per_atom = binding_energy_per_formula/sum(reduced_stoichiometry)\n        print(\"I was passed the following string argument as an example:\\n\\n%s\\n\\n\"%example_arg)\n        ####################################################\n        # ACTUAL CALCULATION ENDS \n        ####################################################\n\n        ####################################################\n        # SOME USAGE EXAMPLES NOT NECESSARY FOR THE PRESENT TEST \n        ####################################################\n        # If your self.atoms object has changed, this is how you update the Crystal Genome designation in your class instance:\n        self._update_crystal_genome_designation_from_atoms()\n\n        # If you just need to check that the symmetry hasn't changed without re-writing the Crystal Genome designation, do this:\n        # Triclinic and monoclinic crystals may not be able to be matched perfectly, there is an option for loose matching (False by default)\n        self._get_crystal_genome_designation_from_atoms_and_verify_unchanged_symmetry(loose_triclinic_and_monoclinic=True)\n\n        # You can also check the symmetry of a passed atoms object\n        atoms = self.atoms\n        # Let's pretend we did something, like MD with LAMMPS\n        # This is only meant to work with unit cells or small supercells, \n        # if you pass this function a large supercell, it will be intractably slow!\n        self._get_crystal_genome_designation_from_atoms_and_verify_unchanged_symmetry(atoms)\n        ####################################################\n        # USAGE EXAMPLES END\n        ####################################################\n\n        ####################################################\n        # PROPERTY WRITING\n        ####################################################\n        # add property instance and automatically pre-fill it with common Crystal Genome keys\n        self._add_property_instance_and_common_crystal_genome_keys(\"binding-energy-crystal\",write_stress=False, write_temp=False)\n\n        # add the fields unique to this property\n        self._add_key_to_current_property_instance(\"binding-potential-energy-per-atom\",binding_energy_per_atom,\"eV\")\n        self._add_key_to_current_property_instance(\"binding-potential-energy-per-formula\",binding_energy_per_formula,\"eV\")\n\nif __name__ == \"__main__\":        \n    ####################################################\n    # if called directly, do some debugging examples\n    ####################################################\n    kim_model_name = \"MEAM_LAMMPS_KoJimLee_2012_FeP__MO_179420363944_002\"\n\n    # For initialization, only pass a KIM model name or an ASE calculator\n    test_driver = TestDriver(kim_model_name)\n\n    # To do a calculation, you can pass an ASE.Atoms object or a Crystal Genome prototype designation.\n    # Atoms object example:\n    atoms = bulk('Fe','bcc',a=2.863,cubic=True)\n    test_driver(atoms,example_arg=\"my example argument\")\n\n    # You can get a list of dictionaries of the results like this:\n    print(test_driver.get_property_instances())\n\n    # Or write it to a file (by default `output/results.edn`) like this:\n    test_driver.write_property_instances_to_file()\n\n    # Alternatively, you can pass a Crystal Genome designation. You can automatically query for all equilibrium structures for a given \n    # species and prototype label like this:\n    cg_des_list = query_crystal_genome_structures(\"MEAM_LAMMPS_KoJimLee_2012_FeP__MO_179420363944_002\",['Fe','P'],'AB_oP8_62_c_c')\n\n    # IMPORTANT: cg_des is a LIST. Pass only one element of it to the test, as keywords (i.e. using **):\n    for cg_des in cg_des_list:\n        test_driver(**cg_des,example_arg=\"my example argument\")\n\n    # Now both results are in the property instances:\n    print(test_driver.get_property_instances())\n\n    # Here are some other crystal prototypes supported by the current model you can try:\n    # [\"Fe\", \"P\"], \"A2B_hP9_189_fg_ad\"\n    # [\"Fe\", \"P\"], \"A3B_tI32_82_3g_g\"\n    # [\"Fe\", \"P\"], \"AB_oP8_62_c_c\"\n    # [\"Fe\", \"P\"], \"AB2_oP6_58_a_g\"\n    # [\"Fe\", \"P\"], \"AB4_mC40_15_ae_4f\"\n    # [\"Fe\", \"P\"], \"AB4_mP30_14_ae_6e\"\n    # [\"Fe\", \"P\"], \"AB4_oC20_20_a_2c\"\n    # [\"Fe\"], \"A_cF4_225_a\"\n    # [\"Fe\"], \"A_cI2_229_a\"\n    # [\"Fe\"], \"A_hP2_194_c\"\n    # [\"Fe\"], \"A_tP28_136_f2ij\"\n    # [\"P\"], \"A_aP24_2_12i\"\n    # [\"P\"], \"A_cP1_221_a\"\n    # [\"P\"], \"A_mC16_12_2ij\"\n    # [\"P\"], \"A_oC8_64_f\"\n    # [\"P\"], \"A_tI4_139_e\""
      ]
    }
  ],
  "metadata": {
    "kernelspec": {
      "display_name": "Python 3",
      "language": "python",
      "name": "python3"
    },
    "language_info": {
      "codemirror_mode": {
        "name": "ipython",
        "version": 3
      },
      "file_extension": ".py",
      "mimetype": "text/x-python",
      "name": "python",
      "nbconvert_exporter": "python",
      "pygments_lexer": "ipython3",
      "version": "3.8.10"
    }
  },
  "nbformat": 4,
  "nbformat_minor": 0
}