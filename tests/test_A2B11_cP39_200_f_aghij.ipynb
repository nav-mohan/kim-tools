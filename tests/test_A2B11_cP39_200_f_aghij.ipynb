{
 "cells": [
  {
   "cell_type": "code",
   "execution_count": 1,
   "id": "b15d9955",
   "metadata": {},
   "outputs": [
    {
     "data": {
      "text/plain": [
       "([8.447753605464722,\n",
       "  0.19825371336523778,\n",
       "  0.6620338892287034,\n",
       "  0.2702445039150718,\n",
       "  0.7180083017782286,\n",
       "  0.8419916396901792,\n",
       "  0.737676629736925],\n",
       " 'A2B11_cP39_200_f_begik-001',\n",
       " 'Mg$_{2}$Zn$_{11}$ ($D8_{c}$) Structure')"
      ]
     },
     "execution_count": 1,
     "metadata": {},
     "output_type": "execute_result"
    }
   ],
   "source": [
    "from ase.io import read\n",
    "from kim_tools import AFLOW\n",
    "\n",
    "prototype = 'A2B11_cP39_200_f_aghij'\n",
    "\n",
    "atoms = read(f'{prototype}.POSCAR')\n",
    "\n",
    "aflow = AFLOW()\n",
    "\n",
    "aflow.solve_for_params_of_known_prototype(atoms, prototype)"
   ]
  }
 ],
 "metadata": {
  "kernelspec": {
   "display_name": "Python 3",
   "language": "python",
   "name": "python3"
  },
  "language_info": {
   "codemirror_mode": {
    "name": "ipython",
    "version": 3
   },
   "file_extension": ".py",
   "mimetype": "text/x-python",
   "name": "python",
   "nbconvert_exporter": "python",
   "pygments_lexer": "ipython3",
   "version": "3.10.12"
  }
 },
 "nbformat": 4,
 "nbformat_minor": 5
}
